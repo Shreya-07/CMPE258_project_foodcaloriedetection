{
  "nbformat": 4,
  "nbformat_minor": 0,
  "metadata": {
    "colab": {
      "name": "StreamlitApplication.ipynb",
      "provenance": [],
      "collapsed_sections": [],
      "include_colab_link": true
    },
    "kernelspec": {
      "name": "python3",
      "display_name": "Python 3"
    },
    "language_info": {
      "name": "python"
    },
    "accelerator": "GPU"
  },
  "cells": [
    {
      "cell_type": "markdown",
      "metadata": {
        "id": "view-in-github",
        "colab_type": "text"
      },
      "source": [
        "<a href=\"https://colab.research.google.com/github/Shreya-07/CMPE258_project_foodcaloriedetection/blob/main/StreamlitApplication.ipynb\" target=\"_parent\"><img src=\"https://colab.research.google.com/assets/colab-badge.svg\" alt=\"Open In Colab\"/></a>"
      ]
    },
    {
      "cell_type": "code",
      "source": [
        "!pip install streamlit -q"
      ],
      "metadata": {
        "colab": {
          "base_uri": "https://localhost:8080/"
        },
        "id": "nvEZKWMukUaY",
        "outputId": "6555aa20-2da1-4bb7-c0c4-57cd8f982d9d"
      },
      "execution_count": null,
      "outputs": [
        {
          "output_type": "stream",
          "name": "stdout",
          "text": [
            "\u001b[K     |████████████████████████████████| 10.1 MB 28.6 MB/s \n",
            "\u001b[K     |████████████████████████████████| 164 kB 67.4 MB/s \n",
            "\u001b[K     |████████████████████████████████| 181 kB 67.8 MB/s \n",
            "\u001b[K     |████████████████████████████████| 4.3 MB 54.0 MB/s \n",
            "\u001b[K     |████████████████████████████████| 111 kB 70.2 MB/s \n",
            "\u001b[K     |████████████████████████████████| 77 kB 7.0 MB/s \n",
            "\u001b[K     |████████████████████████████████| 63 kB 1.8 MB/s \n",
            "\u001b[K     |████████████████████████████████| 131 kB 69.3 MB/s \n",
            "\u001b[K     |████████████████████████████████| 130 kB 69.7 MB/s \n",
            "\u001b[K     |████████████████████████████████| 428 kB 68.3 MB/s \n",
            "\u001b[K     |████████████████████████████████| 793 kB 24.3 MB/s \n",
            "\u001b[K     |████████████████████████████████| 381 kB 57.8 MB/s \n",
            "\u001b[?25h  Building wheel for blinker (setup.py) ... \u001b[?25l\u001b[?25hdone\n",
            "  Building wheel for validators (setup.py) ... \u001b[?25l\u001b[?25hdone\n",
            "\u001b[31mERROR: pip's dependency resolver does not currently take into account all the packages that are installed. This behaviour is the source of the following dependency conflicts.\n",
            "jupyter-console 5.2.0 requires prompt-toolkit<2.0.0,>=1.0.0, but you have prompt-toolkit 3.0.29 which is incompatible.\n",
            "google-colab 1.0.0 requires ipykernel~=4.10, but you have ipykernel 6.13.0 which is incompatible.\n",
            "google-colab 1.0.0 requires ipython~=5.5.0, but you have ipython 7.33.0 which is incompatible.\n",
            "google-colab 1.0.0 requires tornado~=5.1.0; python_version >= \"3.0\", but you have tornado 6.1 which is incompatible.\u001b[0m\n"
          ]
        }
      ]
    },
    {
      "cell_type": "code",
      "source": [
        "%%writefile app.py\n",
        "import streamlit as st\n",
        "from PIL import Image\n",
        "from keras.preprocessing.image import load_img,img_to_array\n",
        "import numpy as np\n",
        "from keras.models import load_model\n",
        "import requests\n",
        "from bs4 import BeautifulSoup\n",
        "\n",
        "model = load_model('FV1.h5')\n",
        "labels = {0: 'Rice', 1: 'Dessert', 2: 'Seafood', 3: 'Meat', 4: 'Soup', 5: 'Bread', 6: 'Egg', 7: 'NoodlesPasta', 8: 'VegetableFruit', 9: 'Friedfood', 10: 'Dairyproduct'}\n",
        "# fruits = ['Apple','Banana','Bello Pepper','Chilli Pepper','Grapes','Jalepeno','Kiwi','Lemon','Mango','Orange','Paprika','Pear','Pineapple','Pomegranate','Watermelon']\n",
        "# vegetables = ['Beetroot','Cabbage','Capsicum','Carrot','Cauliflower','Corn','Cucumber','Eggplant','Ginger','Lettuce','Onion','Peas','Potato','Raddish','Soy Beans','Spinach','Sweetcorn','Sweetpotato','Tomato','Turnip']\n",
        "\n",
        "\n",
        "def fetch_calories(prediction):\n",
        "    try:\n",
        "        url = 'https://www.google.com/search?&q=calories in ' + prediction\n",
        "        req = requests.get(url).text\n",
        "        scrap = BeautifulSoup(req, 'html.parser')\n",
        "        calories = scrap.find(\"div\", class_=\"BNeawe iBp4i AP7Wnd\").text\n",
        "        return calories\n",
        "    except Exception as e:\n",
        "        st.error(\"Can't able to fetch the Calories\")\n",
        "        print(e)\n",
        "\n",
        "def processed_img(img_path):\n",
        "    img=load_img(img_path,target_size=(224,224,3))\n",
        "    img=img_to_array(img)\n",
        "    img=img/255\n",
        "    img=np.expand_dims(img,[0])\n",
        "    answer=model.predict(img)\n",
        "    y_class = answer.argmax(axis=-1)\n",
        "    print(y_class)\n",
        "    y = \" \".join(str(x) for x in y_class)\n",
        "    y = int(y)\n",
        "    res = labels[y]\n",
        "    print(res)\n",
        "    return res.capitalize()\n",
        "\n",
        "def run():\n",
        "    st.title(\"Fruits🍍-Vegetable🍅 Classification\")\n",
        "    img_file = st.file_uploader(\"Choose an Image\", type=[\"jpg\", \"png\"])\n",
        "    if img_file is not None:\n",
        "        img = Image.open(img_file).resize((250,250))\n",
        "        st.image(img,use_column_width=False)\n",
        "        save_image_path = '/content/'+img_file.name\n",
        "    with open(save_image_path, \"wb\") as f:\n",
        "        f.write(img_file.getbuffer())\n",
        "    # if st.button(\"Predict\"):\n",
        "    if img_file is not None:\n",
        "        result= processed_img(save_image_path)\n",
        "        print(result)\n",
        "    # if result in vegetables:\n",
        "    #     st.info('**Category : Vegetables**')\n",
        "    # else:\n",
        "    #     st.info('**Category : Fruit**')\n",
        "    st.success(\"**Predicted : \"+result+'**')\n",
        "    cal = fetch_calories(result)\n",
        "    if cal:\n",
        "        st.warning('**'+cal+'(100 grams)**')\n",
        "run()\n",
        "\n"
      ],
      "metadata": {
        "id": "GSKEN8jrmd8B",
        "colab": {
          "base_uri": "https://localhost:8080/"
        },
        "outputId": "fbbd5dbe-0471-41eb-d41e-754cb100ac5a"
      },
      "execution_count": null,
      "outputs": [
        {
          "output_type": "stream",
          "name": "stdout",
          "text": [
            "Writing app.py\n"
          ]
        }
      ]
    },
    {
      "cell_type": "code",
      "source": [
        "# !ngrok authtoken 29HvgIHTQmv3kAueBlVXulkdXmo_nBHrJ5QbtxKdnMuuKBng"
      ],
      "metadata": {
        "id": "K-MaeAcrmidf",
        "colab": {
          "base_uri": "https://localhost:8080/"
        },
        "outputId": "90ecf90b-11f1-4744-eee6-18a378719e27"
      },
      "execution_count": null,
      "outputs": [
        {
          "output_type": "stream",
          "name": "stdout",
          "text": [
            "Authtoken saved to configuration file: /root/.ngrok2/ngrok.yml\n"
          ]
        }
      ]
    },
    {
      "cell_type": "code",
      "source": [
        "!streamlit run app.py & npx localtunnel --port 8501"
      ],
      "metadata": {
        "colab": {
          "base_uri": "https://localhost:8080/"
        },
        "id": "cj6SUB8epCCT",
        "outputId": "98b7ac60-e429-486b-efba-77fb1529b966"
      },
      "execution_count": null,
      "outputs": [
        {
          "output_type": "stream",
          "name": "stdout",
          "text": [
            "/bin/bash: streamlit: command not found\n",
            "\u001b[K\u001b[?25hnpx: installed 22 in 4.323s\n",
            "your url is: https://good-paws-write-35-243-247-246.loca.lt\n",
            "^C\n"
          ]
        }
      ]
    }
  ]
}